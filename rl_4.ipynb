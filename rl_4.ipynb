{
 "cells": [
  {
   "cell_type": "markdown",
   "metadata": {},
   "source": [
    "### Running with fourth reward structure"
   ]
  },
  {
   "cell_type": "code",
   "execution_count": 1,
   "metadata": {},
   "outputs": [
    {
     "name": "stdout",
     "output_type": "stream",
     "text": [
      "pygame 1.9.4\n",
      "Hello from the pygame community. https://www.pygame.org/contribute.html\n",
      "SHAPE OF CLASS MAP:  (5, 10)\n"
     ]
    },
    {
     "data": {
      "text/plain": [
       "array([[ 0.,  0.,  0.,  0.,  0.,  0.,  0.,  0.,  0.,  0.],\n",
       "       [-1.,  0.,  0.,  0.,  0.,  0.,  0.,  0.,  0.,  0.],\n",
       "       [ 0.,  0.,  0.,  0.,  0.,  0.,  0.,  0.,  0.,  0.],\n",
       "       [-1.,  0.,  0.,  0.,  0.,  0.,  0.,  0.,  0.,  0.],\n",
       "       [ 0.,  0.,  0.,  0.,  0.,  0.,  0.,  0.,  0.,  0.]])"
      ]
     },
     "execution_count": 1,
     "metadata": {},
     "output_type": "execute_result"
    }
   ],
   "source": [
    "import gym\n",
    "import gym_warehouse\n",
    "import numpy as np\n",
    "import copy\n",
    "\n",
    "env = gym.make('warehouse-v0')\n",
    "env.reset()\n",
    "# env.render()"
   ]
  },
  {
   "cell_type": "code",
   "execution_count": 2,
   "metadata": {},
   "outputs": [],
   "source": [
    "from IPython.display import clear_output\n",
    "import matplotlib.pyplot as plt\n",
    "%matplotlib inline\n",
    "\n",
    "import math, random\n",
    "\n",
    "import gym\n",
    "import numpy as np\n",
    "\n",
    "import torch\n",
    "import torch.nn as nn\n",
    "import torch.optim as optim\n",
    "import torch.autograd as autograd\n",
    "from torch.autograd import Variable\n",
    "import torch.nn.functional as F\n",
    "device = torch.device('cuda' if torch.cuda.is_available() else 'cpu')\n",
    "\n",
    "out_dir = 'outdir4/'\n",
    "\n",
    "\n",
    "import math, random\n",
    "\n",
    "import gym\n",
    "import numpy as np\n",
    "\n",
    "import torch\n",
    "import torch.nn as nn\n",
    "import torch.optim as optim\n",
    "import torch.autograd as autograd\n",
    "from torch.autograd import Variable\n",
    "import torch.nn.functional as F\n",
    "device = torch.device('cuda' if torch.cuda.is_available() else 'cpu')\n",
    "\n",
    "import matplotlib.pyplot as plt\n",
    "\n",
    "USE_CUDA = torch.cuda.is_available()\n",
    "Variable = lambda *args, **kwargs: autograd.Variable(*args, **kwargs).cuda() if USE_CUDA else autograd.Variable(*args, **kwargs)\n",
    "\n",
    "from collections import deque\n",
    "\n",
    "gamma      = 0.99\n",
    "\n",
    "class ReplayBuffer(object):\n",
    "    def __init__(self, capacity):\n",
    "        self.buffer = deque(maxlen=capacity)\n",
    "\n",
    "    def push(self, state, action, reward, next_state, done):\n",
    "        state      = np.expand_dims(state, 0)\n",
    "        next_state = np.expand_dims(next_state, 0)\n",
    "\n",
    "        self.buffer.append((state, action, reward, next_state, done))\n",
    "\n",
    "    def sample(self, batch_size):\n",
    "        state, action, reward, next_state, done = zip(*random.sample(self.buffer, batch_size))\n",
    "#         print(\"STATE: \",state)\n",
    "        return np.concatenate(state), action, reward, np.concatenate(next_state), done\n",
    "\n",
    "    def __len__(self):\n",
    "        return len(self.buffer)\n",
    "\n",
    "\n",
    "def update_target(current_model, target_model):\n",
    "    target_model.load_state_dict(current_model.state_dict())\n",
    "\n",
    "# estimated_next_q_state_values=[]\n",
    "# estimated_next_q_value=[]\n",
    "\n",
    "\n",
    "class CnnDQN(nn.Module):\n",
    "    def __init__(self, input_shape, num_actions):\n",
    "        super(CnnDQN, self).__init__()\n",
    "\n",
    "        self.input_shape = input_shape\n",
    "        self.num_actions = num_actions\n",
    "\n",
    "        self.features = nn.Sequential(\n",
    "            nn.Conv2d(input_shape[0], 32, kernel_size=8, stride=4),\n",
    "            nn.ReLU(),\n",
    "            nn.Conv2d(32, 64, kernel_size=4, stride=2),\n",
    "            nn.ReLU(),\n",
    "            nn.Conv2d(64, 64, kernel_size=3, stride=1),\n",
    "            nn.ReLU()\n",
    "        )\n",
    "\n",
    "        self.fc = nn.Sequential(\n",
    "            nn.Linear(self.feature_size(), 512),\n",
    "            nn.ReLU(),\n",
    "            nn.Linear(512, self.num_actions)\n",
    "        )\n",
    "\n",
    "    def forward(self, x):\n",
    "        x = self.features(x)\n",
    "        x = x.view(x.size(0), -1)\n",
    "        x = self.fc(x)\n",
    "        return x\n",
    "\n",
    "    def feature_size(self):\n",
    "        return self.features(autograd.Variable(torch.zeros(1, *self.input_shape))).view(1, -1).size(1)\n",
    "\n",
    "    def act(self, state, epsilon):\n",
    "        if random.random() > epsilon:\n",
    "            state   = Variable(torch.FloatTensor(np.float32(state)).unsqueeze(0), volatile=True)\n",
    "            q_value = self.forward(state)\n",
    "#             print(q_value)\n",
    "            action  = q_value.max(1)[1].data[0]\n",
    "        else:\n",
    "            action1 = random.randrange(5)\n",
    "#             action2 = 5+random.randrange(5)\n",
    "        return action1\n",
    "    \n",
    "    \n",
    "class DQN(nn.Module):\n",
    "    def __init__(self, num_inputs, num_actions):\n",
    "        super(DQN, self).__init__()\n",
    "        \n",
    "        self.layers = nn.Sequential(\n",
    "            nn.Linear(num_inputs, 128),\n",
    "            nn.ReLU(),\n",
    "            nn.Linear(128, 128),\n",
    "            nn.ReLU(),\n",
    "            nn.Linear(128, num_actions)\n",
    "        )\n",
    "        \n",
    "    def forward(self, x):\n",
    "        return self.layers(x)\n",
    "    \n",
    "    def act(self, state, epsilon):\n",
    "        if random.random() > epsilon:\n",
    "            state   = Variable(torch.FloatTensor(state).unsqueeze(0), volatile=True)\n",
    "            q_value = self.forward(state)\n",
    "#             print(q_value)\n",
    "            q_1 = q_value[0][:-5]\n",
    "            q_2 = q_value[0][5:]\n",
    "#             print(\"WHEN IN DOUBT: \",q_1)\n",
    "#             b[0][:-5].max(0)[0].item()\n",
    "            action_1  = q_1.max(0)[1].data.item()\n",
    "            action_2  = q_2.max(0)[1].data.item()\n",
    "        else:\n",
    "            action_1 = random.randrange(5)\n",
    "            action_2 = random.randrange(5)\n",
    "        return action_1,action_2\n",
    "\n",
    "def plot(frame_idx, rewards, losses):\n",
    "    clear_output(True)\n",
    "    plt.figure(figsize=(20,5))\n",
    "    plt.subplot(131)\n",
    "    plt.title('frame %s. reward: %s' % (frame_idx, np.mean(rewards[-10:])))\n",
    "    plt.plot(rewards)\n",
    "    plt.savefig(out_dir + 'rewards.png')\n",
    "\n",
    "    plt.subplot(132)\n",
    "    plt.title('loss')\n",
    "    plt.plot(losses)\n",
    "    plt.savefig(out_dir + 'losses.png')\n",
    "    plt.show()\n",
    "    \n",
    "    \n",
    "\n",
    "def compute_td_loss(batch_size):\n",
    "    state, action, reward, next_state, done = replay_buffer.sample(batch_size)\n",
    "\n",
    "    state      = Variable(torch.FloatTensor(np.float32(state)))\n",
    "    next_state = Variable(torch.FloatTensor(np.float32(next_state)))\n",
    "    action     = Variable(torch.LongTensor(action))\n",
    "    reward     = Variable(torch.FloatTensor(reward))\n",
    "    done       = Variable(torch.FloatTensor(done))\n",
    "\n",
    "    q_values      = current_model(state)\n",
    "#     q_values: batch_size x 10 possible actions\n",
    "#     print(\"Q_VALUES: \",q_values)\n",
    "    \n",
    "    next_q_cur_values = current_model(next_state) #next_q_values\n",
    "    next_q_tar_values = target_model(next_state) #next_q_state_values\n",
    "    \n",
    "\n",
    "#     estimated_next_q_state_values.append(next_q_tar_values)\n",
    "\n",
    "#     print(\"Next_q_cur_values: \", next_q_cur_values)\n",
    "#     print(\"Next_q_tar_values: \", next_q_tar_values)\n",
    "\n",
    "    q_value       = q_values.gather(1, action)\n",
    "#     32x2 (one for each action)\n",
    "\n",
    "    temp1 = next_q_cur_values[:,:5] \n",
    "    temp2 = next_q_cur_values[:,5:]\n",
    "    \n",
    "    next_q_value_1 = next_q_tar_values.gather(1, torch.max(temp1, 1)[1].unsqueeze(1)).squeeze(1)\n",
    "    next_q_value_2 = next_q_tar_values.gather(1, torch.max(temp2, 1)[1].unsqueeze(1)).squeeze(1)\n",
    "\n",
    "#     estimated_next_q_value.append(next_q_value)\n",
    "    \n",
    "    reward_1 = reward[:,[0]].squeeze(1)\n",
    "    reward_2 = reward[:,[1]].squeeze(1)\n",
    "    \n",
    "    expected_q_value_1 = reward_1 + gamma * next_q_value_1 * (1 - done)\n",
    "    expected_q_value_2 = reward_2 + gamma * next_q_value_2 * (1 - done)\n",
    "    \n",
    "    \n",
    "    expected_q_value_1 = expected_q_value_1.unsqueeze(1)\n",
    "    expected_q_value_2 = expected_q_value_2.unsqueeze(1)\n",
    "\n",
    "    expected_q_value = torch.cat((expected_q_value_1,expected_q_value_2),1)\n",
    "    \n",
    "    loss = (q_value - Variable(expected_q_value.data)).pow(2).mean() \n",
    "#     + (q_value - Variable(expected_q_value_2.data)).pow(2).mean()\n",
    "#     print(\"LOSS: \",loss)\n",
    "\n",
    "    optimizer.zero_grad()\n",
    "    loss.backward()\n",
    "    optimizer.step()\n",
    "\n",
    "    return loss"
   ]
  },
  {
   "cell_type": "code",
   "execution_count": 3,
   "metadata": {},
   "outputs": [],
   "source": [
    "# current_model = CnnDQN(env.observation_space.shape, env.action_space.n)\n",
    "# target_model  = CnnDQN(env.observation_space.shape, env.action_space.n)\n",
    "\n",
    "current_model = DQN(env.observation_space.shape[0]*env.observation_space.shape[1], 10)\n",
    "target_model  = DQN(env.observation_space.shape[0]*env.observation_space.shape[1], 10)\n",
    "\n",
    "# current_model = torch.load('outdir/current.model')\n",
    "# current_model.load_state_dict(torch.load('outdir/current.ckpt'))\n",
    "# # target_model  = CnnDQN(env.observation_space.shape, env.action_space.n)\n",
    "# target_model = torch.load('outdir/target.model')\n",
    "# target_model.load_state_dict(torch.load('outdir/target.ckpt'))\n",
    "\n",
    "if USE_CUDA:\n",
    "    current_model = current_model.cuda()\n",
    "    target_model  = target_model.cuda()\n",
    "\n",
    "optimizer = optim.Adam(current_model.parameters(), lr=0.00001,weight_decay=0.01)\n",
    "\n",
    "replay_initial = 10000\n",
    "replay_buffer = ReplayBuffer(100000)\n",
    "\n",
    "update_target(current_model, target_model)\n",
    "\n",
    "epsilon_start = 1.0\n",
    "epsilon_final = 0.001\n",
    "epsilon_decay = 10000000\n",
    "\n",
    "epsilon_by_frame = lambda frame_idx: epsilon_final + (epsilon_start - epsilon_final) * math.exp(-1. * frame_idx / epsilon_decay)\n",
    "\n",
    "num_frames = 10000000\n",
    "batch_size = 32\n",
    "\n",
    "# losses = np.load('outdir/losses.npy')\n",
    "# all_rewards = np.load('outdir/rewards.npy')\n",
    "\n",
    "# losses = losses.tolist()\n",
    "# all_rewards = all_rewards.tolist()\n",
    "losses=[]\n",
    "all_rewards=[]\n",
    "episode_reward = 0\n",
    "\n",
    "state = env.reset()\n",
    "state = state.flatten()"
   ]
  },
  {
   "cell_type": "code",
   "execution_count": null,
   "metadata": {
    "scrolled": true
   },
   "outputs": [
    {
     "data": {
      "image/png": "[encoded data removed]",
      "text/plain": [
       "<Figure size 1440x360 with 2 Axes>"
      ]
     },
     "metadata": {},
     "output_type": "display_data"
    },
    {
     "name": "stdout",
     "output_type": "stream",
     "text": [
      "Frame:  7510000\n",
      "Episode Reward: -198.0\n",
      "Frame:  7520000\n",
      "Episode Reward: -166.5\n",
      "Frame:  7530000\n",
      "Episode Reward: -170.0\n",
      "Frame:  7540000\n",
      "Episode Reward: -156.0\n",
      "Frame:  7550000\n",
      "Episode Reward: -173.25\n",
      "Frame:  7560000\n",
      "Episode Reward: -126.75\n",
      "Frame:  7570000\n",
      "Episode Reward: -159.75\n",
      "Frame:  7580000\n",
      "Episode Reward: -159.5\n",
      "Frame:  7590000\n",
      "Episode Reward: -156.0\n"
     ]
    }
   ],
   "source": [
    "\n",
    "# env.render()\n",
    "for frame_idx in range(1, num_frames + 1):\n",
    "    epsilon = epsilon_by_frame(frame_idx)\n",
    "    action_1,action_2 = current_model.act(state, epsilon)\n",
    "\n",
    "    next_state, reward, done, _ = env.step([action_1,action_2])\n",
    "    next_state=next_state.flatten()\n",
    "    \n",
    "#     print(state)\n",
    "    if len(state)==2:\n",
    "        raise RuntimeError(\"Length of observation is {} at frame {}\".format(len(state),frame_idx))\n",
    "    replay_buffer.push(state, [action_1,action_2], reward, next_state, done)\n",
    "#     env.render()\n",
    "\n",
    "    state = next_state\n",
    "    episode_reward += reward[0]+reward[1]\n",
    "\n",
    "\n",
    "    if (frame_idx%100000==0):\n",
    "#         print(\"EPISODE REWARD: \", episode_reward)\n",
    "        # SAVING LOSS AND REWARD\n",
    "        np.save(out_dir + 'losses.npy',np.array(losses))\n",
    "        np.save(out_dir + 'rewards.npy',np.array(all_rewards))\n",
    "\n",
    "#         SAVING CHECKPOINTS\n",
    "        torch.save(current_model.state_dict(),out_dir + 'current.ckpt'.format(frame_idx))\n",
    "        torch.save(target_model.state_dict(),out_dir + 'target.ckpt'.format(frame_idx))\n",
    "\n",
    "#         SAVING MODELS\n",
    "        torch.save(current_model,out_dir + 'current.model')\n",
    "        torch.save(target_model,out_dir + 'target.model')\n",
    "\n",
    "    if frame_idx % 10000==0:\n",
    "        print('Frame: ',frame_idx)\n",
    "        print(\"Episode Reward: {}\".format(episode_reward))\n",
    "#         print(\"ALL REWARDS: {}\".format(sum(all_rewards)))\n",
    "        \n",
    "    if done:\n",
    "        state = env.reset()\n",
    "        state = state.flatten()\n",
    "        all_rewards.append(episode_reward)\n",
    "#         print(\"Episode Reward When Done: {}\".format(episode_reward))\n",
    "        episode_reward = 0\n",
    "\n",
    "\n",
    "\n",
    "\n",
    "    if (len(replay_buffer) > replay_initial) and (frame_idx%4==0):\n",
    "        loss = compute_td_loss(batch_size)\n",
    "        losses.append(loss.item())\n",
    "\n",
    "    if frame_idx % 100000 == 0:\n",
    "        plot(frame_idx, all_rewards, losses)\n",
    "\n",
    "    if frame_idx % 100000 == 0:\n",
    "        update_target(current_model, target_model)"
   ]
  },
  {
   "cell_type": "code",
   "execution_count": null,
   "metadata": {},
   "outputs": [],
   "source": []
  },
  {
   "cell_type": "code",
   "execution_count": null,
   "metadata": {},
   "outputs": [],
   "source": []
  },
  {
   "cell_type": "code",
   "execution_count": null,
   "metadata": {},
   "outputs": [],
   "source": []
  },
  {
   "cell_type": "code",
   "execution_count": null,
   "metadata": {},
   "outputs": [],
   "source": []
  },
  {
   "cell_type": "code",
   "execution_count": null,
   "metadata": {},
   "outputs": [],
   "source": []
  },
  {
   "cell_type": "code",
   "execution_count": null,
   "metadata": {},
   "outputs": [],
   "source": []
  },
  {
   "cell_type": "code",
   "execution_count": null,
   "metadata": {},
   "outputs": [],
   "source": []
  },
  {
   "cell_type": "code",
   "execution_count": null,
   "metadata": {},
   "outputs": [],
   "source": []
  },
  {
   "cell_type": "code",
   "execution_count": null,
   "metadata": {},
   "outputs": [],
   "source": []
  },
  {
   "cell_type": "code",
   "execution_count": null,
   "metadata": {},
   "outputs": [],
   "source": []
  },
  {
   "cell_type": "code",
   "execution_count": null,
   "metadata": {},
   "outputs": [],
   "source": []
  },
  {
   "cell_type": "code",
   "execution_count": null,
   "metadata": {},
   "outputs": [],
   "source": []
  },
  {
   "cell_type": "code",
   "execution_count": null,
   "metadata": {},
   "outputs": [],
   "source": []
  },
  {
   "cell_type": "code",
   "execution_count": null,
   "metadata": {},
   "outputs": [],
   "source": []
  },
  {
   "cell_type": "code",
   "execution_count": null,
   "metadata": {},
   "outputs": [],
   "source": []
  },
  {
   "cell_type": "code",
   "execution_count": null,
   "metadata": {},
   "outputs": [],
   "source": []
  },
  {
   "cell_type": "code",
   "execution_count": null,
   "metadata": {},
   "outputs": [],
   "source": []
  },
  {
   "cell_type": "code",
   "execution_count": null,
   "metadata": {},
   "outputs": [],
   "source": [
    "env.action_space"
   ]
  },
  {
   "cell_type": "code",
   "execution_count": null,
   "metadata": {},
   "outputs": [],
   "source": [
    "b=torch.tensor([[-0.0814,  0.0060, -0.0667,  0.0217,  0.0114, -0.1569, -0.0728,  0.1463,\n",
    "          0.0184, -0.1267]])"
   ]
  },
  {
   "cell_type": "code",
   "execution_count": null,
   "metadata": {},
   "outputs": [],
   "source": [
    "len(next_state)"
   ]
  },
  {
   "cell_type": "code",
   "execution_count": null,
   "metadata": {},
   "outputs": [],
   "source": [
    "b[0][:-5].max(0)[0].item()"
   ]
  },
  {
   "cell_type": "code",
   "execution_count": null,
   "metadata": {},
   "outputs": [],
   "source": [
    "b = torch.tensor([[ 4.6634e-02, -8.4423e-02, -2.3318e-02,  1.6858e-02, -3.6122e-02,\n",
    "          1.8666e-02, -1.1300e-01,  5.1002e-02,  1.7393e-02,  3.7890e-03],\n",
    "        [ 1.8485e-02, -1.0614e-01, -5.6345e-02,  8.1009e-02, -2.0334e-02,\n",
    "         -2.3780e-02, -1.0791e-02,  6.3356e-02, -1.7999e-02, -1.1104e-01]])\n",
    "action = torch.tensor([[0, 4],\n",
    "        [4, 4]])"
   ]
  },
  {
   "cell_type": "code",
   "execution_count": null,
   "metadata": {},
   "outputs": [],
   "source": [
    "b.gather(1, action.unsqueeze(1)).squeeze(1)"
   ]
  },
  {
   "cell_type": "code",
   "execution_count": null,
   "metadata": {},
   "outputs": [],
   "source": [
    "action.unsqueeze(1)"
   ]
  },
  {
   "cell_type": "code",
   "execution_count": null,
   "metadata": {},
   "outputs": [],
   "source": [
    "b.gather(1,action)"
   ]
  },
  {
   "cell_type": "code",
   "execution_count": null,
   "metadata": {},
   "outputs": [],
   "source": [
    "t = torch.tensor([[2,4],[3,4]])"
   ]
  },
  {
   "cell_type": "code",
   "execution_count": null,
   "metadata": {},
   "outputs": [],
   "source": [
    "torch.gather(t,1,torch.tensor([[0,0],[1,1]]))"
   ]
  },
  {
   "cell_type": "code",
   "execution_count": null,
   "metadata": {},
   "outputs": [],
   "source": []
  },
  {
   "cell_type": "code",
   "execution_count": null,
   "metadata": {},
   "outputs": [],
   "source": [
    "next_q_cur_values = torch.tensor([[ 4.6634e-02, -8.4423e-02, -2.3318e-02,  1.6858e-02, -3.6122e-02,\n",
    "          1.8666e-02, -1.1300e-01,  5.1002e-02,  1.7393e-02,  3.7890e-03],\n",
    "        [ 1.8485e-02, -1.0614e-01, -5.6345e-02,  8.1009e-02, -2.0334e-02,\n",
    "         -2.3780e-02, -1.0791e-02,  6.3356e-02, -1.7999e-02, -1.1104e-01]])"
   ]
  },
  {
   "cell_type": "code",
   "execution_count": null,
   "metadata": {},
   "outputs": [],
   "source": [
    "temp1 = next_q_cur_values[:,:5] \n",
    "print(temp1)"
   ]
  },
  {
   "cell_type": "code",
   "execution_count": null,
   "metadata": {},
   "outputs": [],
   "source": [
    "torch.max(temp1, 1)[1].unsqueeze(1)"
   ]
  },
  {
   "cell_type": "code",
   "execution_count": null,
   "metadata": {},
   "outputs": [],
   "source": [
    "temp2 = next_q_cur_values[:,5:]\n",
    "print(temp2)"
   ]
  },
  {
   "cell_type": "code",
   "execution_count": null,
   "metadata": {},
   "outputs": [],
   "source": [
    "torch.max(temp2, 1)[1].unsqueeze(1)"
   ]
  },
  {
   "cell_type": "code",
   "execution_count": null,
   "metadata": {},
   "outputs": [],
   "source": [
    "next_q_tar_estimate = torch.tensor([[ 4.6634e-02, -8.4423e-02, -2.3318e-02,  1.6858e-02, -3.6122e-02,\n",
    "          1.8666e-02, -1.1300e-01,  5.1002e-02,  1.7393e-02,  3.7890e-03],\n",
    "        [ 1.8485e-02, -1.0614e-01, -5.6345e-02,  8.1009e-02, -2.0334e-02,\n",
    "         -2.3780e-02, -1.0791e-02,  6.3356e-02, -1.7999e-02, -1.1104e-01]])"
   ]
  },
  {
   "cell_type": "code",
   "execution_count": null,
   "metadata": {},
   "outputs": [],
   "source": [
    "next_q_value_1 = next_q_tar_estimate.gather(1,torch.max(temp1, 1)[1].unsqueeze(1))\n",
    "next_q_value_2 = next_q_tar_estimate.gather(1,torch.max(temp2, 1)[1].unsqueeze(1))"
   ]
  },
  {
   "cell_type": "code",
   "execution_count": null,
   "metadata": {},
   "outputs": [],
   "source": [
    "next_q_value_1"
   ]
  },
  {
   "cell_type": "code",
   "execution_count": null,
   "metadata": {},
   "outputs": [],
   "source": [
    "next_q_value_2"
   ]
  },
  {
   "cell_type": "code",
   "execution_count": null,
   "metadata": {},
   "outputs": [],
   "source": [
    "torch.cat((next_q_value_1,next_q_value_2),1)"
   ]
  },
  {
   "cell_type": "code",
   "execution_count": null,
   "metadata": {},
   "outputs": [],
   "source": []
  }
 ],
 "metadata": {
  "kernelspec": {
   "display_name": "Python 3",
   "language": "python",
   "name": "python3"
  },
  "language_info": {
   "codemirror_mode": {
    "name": "ipython",
    "version": 3
   },
   "file_extension": ".py",
   "mimetype": "text/x-python",
   "name": "python",
   "nbconvert_exporter": "python",
   "pygments_lexer": "ipython3",
   "version": "3.6.5"
  }
 },
 "nbformat": 4,
 "nbformat_minor": 2
}
