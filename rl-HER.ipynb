{
 "cells": [
  {
   "cell_type": "code",
   "execution_count": 1,
   "metadata": {},
   "outputs": [],
   "source": [
    "import math\n",
    "import random\n",
    "\n",
    "import gym\n",
    "import gym_warehouse\n",
    "import numpy as np\n",
    "\n",
    "import torch\n",
    "import torch.nn as nn\n",
    "import torch.optim as optim\n",
    "import torch.nn.functional as F\n",
    "from torch.distributions import Categorical"
   ]
  },
  {
   "cell_type": "code",
   "execution_count": 2,
   "metadata": {},
   "outputs": [],
   "source": [
    "from IPython.display import clear_output\n",
    "import matplotlib.pyplot as plt\n",
    "%matplotlib inline"
   ]
  },
  {
   "cell_type": "code",
   "execution_count": 3,
   "metadata": {},
   "outputs": [],
   "source": [
    "use_cuda = torch.cuda.is_available()\n",
    "device   = torch.device(\"cuda\" if use_cuda else \"cpu\")"
   ]
  },
  {
   "cell_type": "code",
   "execution_count": 4,
   "metadata": {},
   "outputs": [],
   "source": [
    "from collections import deque\n",
    "\n",
    "class ReplayBuffer(object):\n",
    "    def __init__(self, capacity):\n",
    "        self.buffer = deque(maxlen=capacity)\n",
    "    \n",
    "    def push(self, state, action, reward, next_state, done, goal):\n",
    "        self.buffer.append((state, action, reward, next_state, done, goal))\n",
    "    \n",
    "    def sample(self, batch_size):\n",
    "        state, action, reward, next_state, done, goal = zip(*random.sample(self.buffer, batch_size))\n",
    "        return np.stack(state), action, reward, np.stack(next_state), done, np.stack(goal)\n",
    "    \n",
    "    def __len__(self):\n",
    "        return len(self.buffer)"
   ]
  },
  {
   "cell_type": "code",
   "execution_count": 5,
   "metadata": {},
   "outputs": [],
   "source": [
    "class Env(object):\n",
    "    def __init__(self, num_bits):\n",
    "        self.num_bits = num_bits\n",
    "    \n",
    "    def reset(self):\n",
    "        self.done      = False\n",
    "        self.num_steps = 0\n",
    "        self.state     = np.random.randint(2, size=self.num_bits)\n",
    "        self.target    = np.random.randint(2, size=self.num_bits)\n",
    "        return self.state, self.target\n",
    "    \n",
    "    def step(self, action):\n",
    "        if self.done:\n",
    "            raise RESET\n",
    "        \n",
    "        self.state[action] = 1 - self.state[action]\n",
    "        \n",
    "        if self.num_steps > self.num_bits + 1:\n",
    "            self.done = True\n",
    "        self.num_steps += 1\n",
    "        \n",
    "        if np.sum(self.state == self.target) == self.num_bits:\n",
    "            self.done = True\n",
    "            return np.copy(self.state), 0, self.done, {}\n",
    "        else:\n",
    "            return np.copy(self.state), -1, self.done, {}"
   ]
  },
  {
   "cell_type": "code",
   "execution_count": 6,
   "metadata": {},
   "outputs": [],
   "source": [
    "class Model(nn.Module):\n",
    "    def __init__(self, num_inputs, num_outputs, hidden_size=256):\n",
    "        super(Model, self).__init__()\n",
    "        \n",
    "        self.linear1 = nn.Linear(num_inputs,  hidden_size)\n",
    "        self.linear2 = nn.Linear(hidden_size, num_outputs)\n",
    "    \n",
    "    def forward(self, state, goal):\n",
    "        x = torch.cat([state, goal], 1)\n",
    "        x = F.relu(self.linear1(x))\n",
    "        x = self.linear2(x)\n",
    "        return x\n",
    "    \n",
    "def update_target(current_model, target_model):\n",
    "    target_model.load_state_dict(current_model.state_dict())"
   ]
  },
  {
   "cell_type": "code",
   "execution_count": 7,
   "metadata": {},
   "outputs": [],
   "source": [
    "def get_action(model, state, goal, epsilon=0.1):\n",
    "    if random.random() < 0.1:\n",
    "        return random.randrange(env.action_space.n)\n",
    "    \n",
    "    state = torch.FloatTensor(state).unsqueeze(0).to(device)\n",
    "    goal  = torch.FloatTensor(goal).unsqueeze(0).to(device)\n",
    "    q_value = model(state, goal)\n",
    "#     print(q_value)\n",
    "    return q_value.max(1)[1].item()"
   ]
  },
  {
   "cell_type": "code",
   "execution_count": 8,
   "metadata": {},
   "outputs": [],
   "source": [
    "def plot(frame_idx, rewards, losses):\n",
    "    clear_output(True)\n",
    "    plt.figure(figsize=(20,5))\n",
    "    plt.subplot(131)\n",
    "    plt.title('Mean Reward: %s. frame: %s' % (rewards[-1], frame_idx))\n",
    "    plt.plot(rewards)\n",
    "    plt.subplot(132)\n",
    "    plt.title('loss')\n",
    "    plt.plot(losses)\n",
    "    plt.show()"
   ]
  },
  {
   "cell_type": "code",
   "execution_count": 9,
   "metadata": {},
   "outputs": [],
   "source": [
    "def compute_td_error(batch_size):\n",
    "    if batch_size > len(replay_buffer):\n",
    "        return None\n",
    "\n",
    "    state, action, reward, next_state, done, goal = replay_buffer.sample(batch_size)\n",
    "\n",
    "    state      = torch.FloatTensor(state).to(device)\n",
    "    reward     = torch.FloatTensor(reward).unsqueeze(1).to(device)\n",
    "    action     = torch.LongTensor(action).unsqueeze(1).to(device)\n",
    "    next_state = torch.FloatTensor(next_state).to(device)\n",
    "    goal       = torch.FloatTensor(goal).to(device)\n",
    "    mask       = torch.FloatTensor(1 - np.float32(done)).unsqueeze(1).to(device)\n",
    "    \n",
    "    q_values = model(state, goal)\n",
    "    q_value  = q_values.gather(1, action)\n",
    "\n",
    "    next_q_values = target_model(next_state, goal)\n",
    "    target_action = next_q_values.max(1)[1].unsqueeze(1)\n",
    "    next_q_value  = target_model(next_state, goal).gather(1, target_action)\n",
    "\n",
    "    expected_q_value = reward + 0.99 * next_q_value * mask\n",
    "\n",
    "    loss = (q_value - expected_q_value.detach()).pow(2).mean()\n",
    "\n",
    "    optimizer.zero_grad()\n",
    "    loss.backward()\n",
    "    optimizer.step()\n",
    "    \n",
    "    return loss"
   ]
  },
  {
   "cell_type": "code",
   "execution_count": 10,
   "metadata": {},
   "outputs": [
    {
     "name": "stdout",
     "output_type": "stream",
     "text": [
      "pygame 1.9.4\n",
      "Hello from the pygame community. https://www.pygame.org/contribute.html\n"
     ]
    }
   ],
   "source": [
    "# num_bits = 11\n",
    "env = gym.make(\"warehouse-v2\")\n",
    "\n",
    "model        = Model(2 * env.observation_space.shape[0]*env.observation_space.shape[1], env.action_space.n).to(device)\n",
    "target_model = Model(2 * env.observation_space.shape[0]*env.observation_space.shape[1], env.action_space.n).to(device)\n",
    "update_target(model, target_model)\n",
    "\n",
    "#hyperparams:\n",
    "batch_size = 32\n",
    "new_goals  = 5\n",
    "max_frames = 200000\n",
    "    \n",
    "optimizer = optim.Adam(model.parameters())\n",
    "replay_buffer = ReplayBuffer(10000)"
   ]
  },
  {
   "cell_type": "code",
   "execution_count": 11,
   "metadata": {},
   "outputs": [
    {
     "data": {
      "text/plain": [
       "100"
      ]
     },
     "execution_count": 11,
     "metadata": {},
     "output_type": "execute_result"
    }
   ],
   "source": [
    "2*env.observation_space.shape[0]*env.observation_space.shape[1]"
   ]
  },
  {
   "cell_type": "code",
   "execution_count": 12,
   "metadata": {},
   "outputs": [],
   "source": [
    "state,goal = env.reset()\n",
    "state = state.flatten()\n",
    "goal = goal.flatten()"
   ]
  },
  {
   "cell_type": "code",
   "execution_count": 13,
   "metadata": {},
   "outputs": [],
   "source": [
    "#     state = torch.FloatTensor(state).unsqueeze(0).to(device)\n",
    "#     goal  = torch.FloatTensor(goal).unsqueeze(0).to(device)"
   ]
  },
  {
   "cell_type": "code",
   "execution_count": 14,
   "metadata": {},
   "outputs": [],
   "source": [
    "# torch.cat([state,goal],1).flatten().shape"
   ]
  },
  {
   "cell_type": "code",
   "execution_count": 15,
   "metadata": {},
   "outputs": [
    {
     "data": {
      "image/png": "[encoded data removed]",
      "text/plain": [
       "<Figure size 1440x360 with 2 Axes>"
      ]
     },
     "metadata": {},
     "output_type": "display_data"
    }
   ],
   "source": [
    "frame_idx = 0\n",
    "all_rewards = []\n",
    "losses = []\n",
    "\n",
    "while frame_idx < max_frames:\n",
    "    state,goal = env.reset()\n",
    "    state = state.flatten()\n",
    "    goal = goal.flatten()\n",
    "    done = False\n",
    "    episode = []\n",
    "    total_reward = 0\n",
    "    while not done:\n",
    "        action = get_action(model, state, goal)\n",
    "        next_state, reward, done, _ = env.step(action)\n",
    "        next_state = next_state.flatten()\n",
    "        replay_buffer.push(state, action, reward, next_state, done, goal)\n",
    "        state = next_state\n",
    "        total_reward += reward\n",
    "        frame_idx += 1\n",
    "        \n",
    "        if frame_idx % 1000 == 0:\n",
    "            plot(frame_idx, [np.mean(all_rewards[i:i+100]) for i in range(0, len(all_rewards), 100)], losses)\n",
    "        \n",
    "    all_rewards.append(total_reward)\n",
    "    \n",
    "    loss = compute_td_error(batch_size)\n",
    "    if loss is not None: losses.append(loss.item())"
   ]
  },
  {
   "cell_type": "markdown",
   "metadata": {},
   "source": [
    "## With HER"
   ]
  },
  {
   "cell_type": "code",
   "execution_count": 17,
   "metadata": {},
   "outputs": [],
   "source": [
    "env = gym.make(\"warehouse-v2\")\n",
    "\n",
    "model        = Model(2 * env.observation_space.shape[0]*env.observation_space.shape[1], env.action_space.n).to(device)\n",
    "target_model = Model(2 * env.observation_space.shape[0]*env.observation_space.shape[1], env.action_space.n).to(device)\n",
    "update_target(model, target_model)\n",
    "\n",
    "#hyperparams:\n",
    "batch_size = 32\n",
    "new_goals  = 5\n",
    "max_frames = 200000\n",
    "    \n",
    "optimizer = optim.Adam(model.parameters())\n",
    "replay_buffer = ReplayBuffer(10000)"
   ]
  },
  {
   "cell_type": "code",
   "execution_count": 21,
   "metadata": {},
   "outputs": [
    {
     "data": {
      "image/png": "[encoded data removed]",
      "text/plain": [
       "<Figure size 1440x360 with 2 Axes>"
      ]
     },
     "metadata": {},
     "output_type": "display_data"
    }
   ],
   "source": [
    "frame_idx = 0\n",
    "all_rewards = []\n",
    "losses = []\n",
    "\n",
    "while frame_idx < max_frames:\n",
    "    state, goal = env.reset()\n",
    "    state = state.flatten()\n",
    "    goal = goal.flatten()\n",
    "    done = False\n",
    "    episode = []\n",
    "    total_reward = 0\n",
    "    while not done:\n",
    "        action = get_action(model, state, goal)\n",
    "        next_state, reward, done, _ = env.step(action)\n",
    "        next_state = next_state.flatten()\n",
    "        episode.append((state, reward, done, next_state, goal))\n",
    "        replay_buffer.push(state, action, reward, next_state, done, goal)\n",
    "        state = next_state\n",
    "        total_reward += reward\n",
    "        frame_idx += 1\n",
    "        \n",
    "        if frame_idx % 10000 == 0:\n",
    "            plot(frame_idx, [np.mean(all_rewards[i:i+100]) for i in range(0, len(all_rewards), 100)], losses)\n",
    "        \n",
    "    all_rewards.append(total_reward)\n",
    "    \n",
    "    \n",
    "    new_episode = []\n",
    "    for state, reward, done, next_state, goal in episode:\n",
    "        for t in np.random.choice(env.action_space.n, new_goals):\n",
    "            try:\n",
    "                episode[t]\n",
    "            except:\n",
    "                continue\n",
    "            new_goal = episode[t][-2]\n",
    "            if np.sum(next_state == new_goal) == env.observation_space.shape[0]*env.observation_space.shape[1]:\n",
    "                reward = 0\n",
    "            else:\n",
    "                reward = -1\n",
    "            replay_buffer.push(state, action, reward, next_state, done, new_goal)\n",
    "            new_episode.append((state, reward, done, next_state, new_goal))\n",
    "    \n",
    "    \n",
    "    \n",
    "    loss = compute_td_error(batch_size)\n",
    "    if loss is not None: losses.append(loss.item())"
   ]
  },
  {
   "cell_type": "markdown",
   "metadata": {},
   "source": [
    "## Visualize"
   ]
  },
  {
   "cell_type": "code",
   "execution_count": null,
   "metadata": {},
   "outputs": [],
   "source": []
  },
  {
   "cell_type": "code",
   "execution_count": 23,
   "metadata": {},
   "outputs": [
    {
     "ename": "KeyboardInterrupt",
     "evalue": "",
     "output_type": "error",
     "traceback": [
      "\u001b[1;31m---------------------------------------------------------------------------\u001b[0m",
      "\u001b[1;31mKeyboardInterrupt\u001b[0m                         Traceback (most recent call last)",
      "\u001b[1;32m<ipython-input-23-fb409143a84b>\u001b[0m in \u001b[0;36m<module>\u001b[1;34m()\u001b[0m\n\u001b[0;32m     15\u001b[0m         \u001b[0maction\u001b[0m \u001b[1;33m=\u001b[0m \u001b[0mget_action\u001b[0m\u001b[1;33m(\u001b[0m\u001b[0mmodel\u001b[0m\u001b[1;33m,\u001b[0m \u001b[0mstate\u001b[0m\u001b[1;33m,\u001b[0m \u001b[0mgoal\u001b[0m\u001b[1;33m)\u001b[0m\u001b[1;33m\u001b[0m\u001b[0m\n\u001b[0;32m     16\u001b[0m         \u001b[0mnext_state\u001b[0m\u001b[1;33m,\u001b[0m \u001b[0mreward\u001b[0m\u001b[1;33m,\u001b[0m \u001b[0mdone\u001b[0m\u001b[1;33m,\u001b[0m \u001b[0m_\u001b[0m \u001b[1;33m=\u001b[0m \u001b[0menv\u001b[0m\u001b[1;33m.\u001b[0m\u001b[0mstep\u001b[0m\u001b[1;33m(\u001b[0m\u001b[0maction\u001b[0m\u001b[1;33m)\u001b[0m\u001b[1;33m\u001b[0m\u001b[0m\n\u001b[1;32m---> 17\u001b[1;33m         \u001b[0menv\u001b[0m\u001b[1;33m.\u001b[0m\u001b[0mrender\u001b[0m\u001b[1;33m(\u001b[0m\u001b[1;33m)\u001b[0m\u001b[1;33m\u001b[0m\u001b[0m\n\u001b[0m\u001b[0;32m     18\u001b[0m         \u001b[0mnext_state\u001b[0m \u001b[1;33m=\u001b[0m \u001b[0mnext_state\u001b[0m\u001b[1;33m.\u001b[0m\u001b[0mflatten\u001b[0m\u001b[1;33m(\u001b[0m\u001b[1;33m)\u001b[0m\u001b[1;33m\u001b[0m\u001b[0m\n\u001b[0;32m     19\u001b[0m         \u001b[0mepisode\u001b[0m\u001b[1;33m.\u001b[0m\u001b[0mappend\u001b[0m\u001b[1;33m(\u001b[0m\u001b[1;33m(\u001b[0m\u001b[0mstate\u001b[0m\u001b[1;33m,\u001b[0m \u001b[0mreward\u001b[0m\u001b[1;33m,\u001b[0m \u001b[0mdone\u001b[0m\u001b[1;33m,\u001b[0m \u001b[0mnext_state\u001b[0m\u001b[1;33m,\u001b[0m \u001b[0mgoal\u001b[0m\u001b[1;33m)\u001b[0m\u001b[1;33m)\u001b[0m\u001b[1;33m\u001b[0m\u001b[0m\n",
      "\u001b[1;32mc:\\users\\nitin\\documents\\github\\gym-warehouse\\gym_warehouse\\envs\\warehouse_env_HER.py\u001b[0m in \u001b[0;36mrender\u001b[1;34m(self, mode, close)\u001b[0m\n\u001b[0;32m    166\u001b[0m         \u001b[1;32mif\u001b[0m \u001b[0mclose\u001b[0m\u001b[1;33m:\u001b[0m\u001b[1;33m\u001b[0m\u001b[0m\n\u001b[0;32m    167\u001b[0m             \u001b[0mself\u001b[0m\u001b[1;33m.\u001b[0m\u001b[0mwarehouse_view\u001b[0m\u001b[1;33m.\u001b[0m\u001b[0mquit_game\u001b[0m\u001b[1;33m(\u001b[0m\u001b[1;33m)\u001b[0m\u001b[1;33m\u001b[0m\u001b[0m\n\u001b[1;32m--> 168\u001b[1;33m         \u001b[1;32mreturn\u001b[0m \u001b[0mself\u001b[0m\u001b[1;33m.\u001b[0m\u001b[0mwarehouse_view\u001b[0m\u001b[1;33m.\u001b[0m\u001b[0mupdate\u001b[0m\u001b[1;33m(\u001b[0m\u001b[0mmode\u001b[0m\u001b[1;33m)\u001b[0m\u001b[1;33m\u001b[0m\u001b[0m\n\u001b[0m\u001b[0;32m    169\u001b[0m \u001b[1;33m\u001b[0m\u001b[0m\n\u001b[0;32m    170\u001b[0m     \u001b[1;32mdef\u001b[0m \u001b[0mget_num_orders_in_system\u001b[0m\u001b[1;33m(\u001b[0m\u001b[0mself\u001b[0m\u001b[1;33m)\u001b[0m\u001b[1;33m:\u001b[0m\u001b[1;33m\u001b[0m\u001b[0m\n",
      "\u001b[1;32mc:\\users\\nitin\\documents\\github\\gym-warehouse\\gym_warehouse\\envs\\warehouse_view_HER.py\u001b[0m in \u001b[0;36mupdate\u001b[1;34m(self, mode)\u001b[0m\n\u001b[0;32m     69\u001b[0m     \u001b[1;32mdef\u001b[0m \u001b[0mupdate\u001b[0m\u001b[1;33m(\u001b[0m\u001b[0mself\u001b[0m\u001b[1;33m,\u001b[0m\u001b[0mmode\u001b[0m\u001b[1;33m=\u001b[0m\u001b[1;34m\"human\"\u001b[0m\u001b[1;33m)\u001b[0m\u001b[1;33m:\u001b[0m\u001b[1;33m\u001b[0m\u001b[0m\n\u001b[0;32m     70\u001b[0m         \u001b[1;32mtry\u001b[0m\u001b[1;33m:\u001b[0m\u001b[1;33m\u001b[0m\u001b[0m\n\u001b[1;32m---> 71\u001b[1;33m             \u001b[0mimg_output\u001b[0m \u001b[1;33m=\u001b[0m \u001b[0mself\u001b[0m\u001b[1;33m.\u001b[0m\u001b[0m__view_update\u001b[0m\u001b[1;33m(\u001b[0m\u001b[0mmode\u001b[0m\u001b[1;33m)\u001b[0m\u001b[1;33m\u001b[0m\u001b[0m\n\u001b[0m\u001b[0;32m     72\u001b[0m             \u001b[0mself\u001b[0m\u001b[1;33m.\u001b[0m\u001b[0m__controller_update\u001b[0m\u001b[1;33m(\u001b[0m\u001b[1;33m)\u001b[0m\u001b[1;33m\u001b[0m\u001b[0m\n\u001b[0;32m     73\u001b[0m         \u001b[1;32mexcept\u001b[0m \u001b[0mException\u001b[0m \u001b[1;32mas\u001b[0m \u001b[0me\u001b[0m\u001b[1;33m:\u001b[0m\u001b[1;33m\u001b[0m\u001b[0m\n",
      "\u001b[1;32mc:\\users\\nitin\\documents\\github\\gym-warehouse\\gym_warehouse\\envs\\warehouse_view_HER.py\u001b[0m in \u001b[0;36m__view_update\u001b[1;34m(self, mode)\u001b[0m\n\u001b[0;32m    162\u001b[0m                 \u001b[0mpygame\u001b[0m\u001b[1;33m.\u001b[0m\u001b[0mdisplay\u001b[0m\u001b[1;33m.\u001b[0m\u001b[0mflip\u001b[0m\u001b[1;33m(\u001b[0m\u001b[1;33m)\u001b[0m\u001b[1;33m\u001b[0m\u001b[0m\n\u001b[0;32m    163\u001b[0m \u001b[1;33m\u001b[0m\u001b[0m\n\u001b[1;32m--> 164\u001b[1;33m             \u001b[1;32mreturn\u001b[0m \u001b[0mnp\u001b[0m\u001b[1;33m.\u001b[0m\u001b[0mflipud\u001b[0m\u001b[1;33m(\u001b[0m\u001b[0mnp\u001b[0m\u001b[1;33m.\u001b[0m\u001b[0mrot90\u001b[0m\u001b[1;33m(\u001b[0m\u001b[0mpygame\u001b[0m\u001b[1;33m.\u001b[0m\u001b[0msurfarray\u001b[0m\u001b[1;33m.\u001b[0m\u001b[0marray3d\u001b[0m\u001b[1;33m(\u001b[0m\u001b[0mpygame\u001b[0m\u001b[1;33m.\u001b[0m\u001b[0mdisplay\u001b[0m\u001b[1;33m.\u001b[0m\u001b[0mget_surface\u001b[0m\u001b[1;33m(\u001b[0m\u001b[1;33m)\u001b[0m\u001b[1;33m)\u001b[0m\u001b[1;33m)\u001b[0m\u001b[1;33m)\u001b[0m\u001b[1;33m\u001b[0m\u001b[0m\n\u001b[0m\u001b[0;32m    165\u001b[0m \u001b[1;33m\u001b[0m\u001b[0m\n\u001b[0;32m    166\u001b[0m     \u001b[1;32mdef\u001b[0m \u001b[0m__draw_warehouse\u001b[0m\u001b[1;33m(\u001b[0m\u001b[0mself\u001b[0m\u001b[1;33m)\u001b[0m\u001b[1;33m:\u001b[0m\u001b[1;33m\u001b[0m\u001b[0m\n",
      "\u001b[1;32mC:\\Python3\\Anaconda3\\lib\\site-packages\\pygame\\surfarray.py\u001b[0m in \u001b[0;36marray3d\u001b[1;34m(surface)\u001b[0m\n\u001b[0;32m    127\u001b[0m     method).\n\u001b[0;32m    128\u001b[0m     \"\"\"\n\u001b[1;32m--> 129\u001b[1;33m     \u001b[1;32mreturn\u001b[0m \u001b[0mnumpysf\u001b[0m\u001b[1;33m.\u001b[0m\u001b[0marray3d\u001b[0m \u001b[1;33m(\u001b[0m\u001b[0msurface\u001b[0m\u001b[1;33m)\u001b[0m\u001b[1;33m\u001b[0m\u001b[0m\n\u001b[0m\u001b[0;32m    130\u001b[0m \u001b[1;33m\u001b[0m\u001b[0m\n\u001b[0;32m    131\u001b[0m \u001b[1;32mdef\u001b[0m \u001b[0mpixels3d\u001b[0m \u001b[1;33m(\u001b[0m\u001b[0msurface\u001b[0m\u001b[1;33m)\u001b[0m\u001b[1;33m:\u001b[0m\u001b[1;33m\u001b[0m\u001b[0m\n",
      "\u001b[1;31mKeyboardInterrupt\u001b[0m: "
     ]
    }
   ],
   "source": [
    "env = gym.make(\"warehouse-v2\")\n",
    "frame_idx = 0\n",
    "all_rewards = []\n",
    "losses = []\n",
    "\n",
    "while frame_idx < 100:\n",
    "    state, goal = env.reset()\n",
    "    env.render()\n",
    "    state = state.flatten()\n",
    "    goal = goal.flatten()\n",
    "    done = False\n",
    "    episode = []\n",
    "    total_reward = 0\n",
    "    while not done:\n",
    "        action = get_action(model, state, goal)\n",
    "        next_state, reward, done, _ = env.step(action)\n",
    "        all_rewards.append(reward\n",
    "        env.render()\n",
    "        next_state = next_state.flatten()\n",
    "        episode.append((state, reward, done, next_state, goal))\n",
    "        replay_buffer.push(state, action, reward, next_state, done, goal)\n",
    "        state = next_state\n",
    "        total_reward += reward\n",
    "        frame_idx += 1\n",
    "        if frame_idx % 10000 == 0:\n",
    "            plot(frame_idx, [np.mean(all_rewards[i:i+100]) for i in range(0, len(all_rewards), 100)], losses)\n",
    "        \n",
    "        "
   ]
  },
  {
   "cell_type": "code",
   "execution_count": null,
   "metadata": {},
   "outputs": [],
   "source": []
  }
 ],
 "metadata": {
  "kernelspec": {
   "display_name": "Python 3",
   "language": "python",
   "name": "python3"
  },
  "language_info": {
   "codemirror_mode": {
    "name": "ipython",
    "version": 3
   },
   "file_extension": ".py",
   "mimetype": "text/x-python",
   "name": "python",
   "nbconvert_exporter": "python",
   "pygments_lexer": "ipython3",
   "version": "3.6.5"
  }
 },
 "nbformat": 4,
 "nbformat_minor": 2
}
