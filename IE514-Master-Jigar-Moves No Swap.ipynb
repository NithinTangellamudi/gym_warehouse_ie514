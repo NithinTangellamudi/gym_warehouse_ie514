{
 "cells": [
  {
   "cell_type": "code",
   "execution_count": 1,
   "metadata": {
    "scrolled": true
   },
   "outputs": [
    {
     "name": "stdout",
     "output_type": "stream",
     "text": [
      "pygame 1.9.5\n",
      "Hello from the pygame community. https://www.pygame.org/contribute.html\n",
      "SHAPE OF CLASS MAP:  (5, 10)\n"
     ]
    }
   ],
   "source": [
    "import sys\n",
    "sys.path.insert(0,'C:/Users/owner/Documents/GitHub/gym-warehouse')\n",
    "\n",
    "import gym\n",
    "import gym_warehouse\n",
    "import numpy as np\n",
    "import copy\n",
    "\n",
    "env = gym.make('warehouse-v0')\n",
    "# env.render()"
   ]
  },
  {
   "cell_type": "code",
   "execution_count": 2,
   "metadata": {},
   "outputs": [],
   "source": [
    "class Robot:\n",
    "\n",
    "    def __init__(self,location,name):\n",
    "        self.entrance = location\n",
    "        self.location = location\n",
    "        self.name = name\n",
    "        self.loaded = False\n",
    "        self.assignment = None\n",
    "        self.sorted_orders = None\n",
    "        self.fulfilled = 0\n",
    "#         self.next_move = (0,0)\n",
    "        \n",
    "    def get_closest_orders(self,orders):\n",
    "\n",
    "        ord_dist=[]\n",
    "        for i in orders:\n",
    "\n",
    "            distance = abs(self.location[0] - i.location[0]) + abs(self.location[1] - i.location[1])\n",
    "            moves = (self.location[0]-i.location[1],self.location[1]-i.location[1])\n",
    "        \n",
    "            ord_dist.append([i, distance])\n",
    "            \n",
    "        self.sorted_orders = sorted(ord_dist, key=lambda x: x[1])\n",
    "        \n",
    "    \n",
    "    def is_loaded(self,warehouse):\n",
    "        if self.assignment is not None:\n",
    "            if self.location == self.assignment.location:\n",
    "                self.loaded=True\n",
    "                warehouse.clear_order(self.assignment)\n",
    "                self.clear_order()\n",
    "        else:\n",
    "#             LOOP THROUGH ALL ORDERS TO SEE IF WE ARE ON AN ORDER\n",
    "            for i in warehouse.orders:\n",
    "                if i.location == self.location:\n",
    "                    self.loaded=True\n",
    "                    warehouse.clear_order(i)\n",
    "            \n",
    "            \n",
    "    def step(self,dir_,warehouse):\n",
    "        \n",
    "\n",
    "        \n",
    "        old_loc = self.location\n",
    "        self.location = [sum(x) for x in zip(self.location, dir_)]\n",
    "        \n",
    "        if self.assignment == None and self.loaded==True:\n",
    "            if self.location == self.entrance:\n",
    "                self.loaded = False\n",
    "                self.fulfilled +=1\n",
    "            else:\n",
    "                pass\n",
    "        elif self.loaded == False:\n",
    "            self.is_loaded(warehouse)\n",
    "        \n",
    "       # print(\"Robot:  \", self, \" old_loc: \", old_loc)\n",
    "        \n",
    "              \n",
    "    def assign(self,order,override=False):\n",
    "        \n",
    "        if order == None and override:\n",
    "            if self.assignment is not None:\n",
    "                self.assignment.assignment = None\n",
    "            self.assignment = order\n",
    "            return True   \n",
    "        \n",
    "        elif order.assignment == None:\n",
    "            \n",
    "            if self.assignment is not None:\n",
    "                self.assignment.assignment = None\n",
    "                \n",
    "            self.assignment = order\n",
    "            order.assign(self)    \n",
    "            return True\n",
    "        \n",
    "        elif override:\n",
    "            if self.assignment is not None:\n",
    "                self.assignment.assignment = None\n",
    "                self.assignment = None\n",
    "            self.assignment = order\n",
    "            order.assignment.assignment = None\n",
    "            order.assign(self)\n",
    "            return True           \n",
    "        \n",
    "        elif self.assignment==order:\n",
    "            return True\n",
    "        \n",
    "        return False\n",
    "        \n",
    "    \n",
    "    def get_dist(self,order):\n",
    "        if order is None:\n",
    "            return 0\n",
    "        return abs(self.location[0] - order.location[0]) + abs(self.location[1] - order.location[1])\n",
    "    \n",
    "    def get_direction(self,location):\n",
    "        \n",
    "        return ((self.location[0] - location[0]) , (self.location[1] - location[1]))\n",
    "    \n",
    "    def find_next_move(self):\n",
    "        \n",
    "        self.is_loaded(warehouse)\n",
    "        \n",
    "        if self.loaded:\n",
    "            (up,right) = self.get_direction(self.entrance)\n",
    "        elif self.assignment == None:\n",
    "            return [0,0]\n",
    "        else:\n",
    "            (up,right) = self.get_direction(self.assignment.location)\n",
    "        \n",
    "        if up==0:\n",
    "            temp_up=0\n",
    "        elif up > 0:\n",
    "            temp_up = min(max(up,0),-1)\n",
    "        else:\n",
    "            temp_up = max(min(up,0),1)\n",
    "        \n",
    "        \n",
    "        if right==0:\n",
    "            temp_right=0\n",
    "        elif right > 0:\n",
    "            temp_right = min(max(right,0),-1)\n",
    "        else:\n",
    "            temp_right = max(min(right,0),1)\n",
    "        \n",
    "        #print(\"Robot: \", self ,\" Get Directions: \",(up,right), \" temp_up: \",temp_up,\" temp_right: \", temp_right)\n",
    "        \n",
    "        return [temp_up,temp_right]\n",
    "    \n",
    "\n",
    "    \n",
    "    def __str__(self):\n",
    "        return f'{self.name} at {self.location}'\n",
    "        \n",
    "    def __repr__(self):\n",
    "        return f'{self.name} at {self.location}'              \n",
    "        \n",
    "    def clear_order(self):       \n",
    "        self.assignment = None"
   ]
  },
  {
   "cell_type": "code",
   "execution_count": 3,
   "metadata": {},
   "outputs": [],
   "source": [
    "class Order:\n",
    "    \n",
    "    def __init__(self,location):\n",
    "        self.location = location\n",
    "        self.assignment = None\n",
    "        \n",
    "    def assign(self,robot):\n",
    "        self.assignment = robot\n",
    "        \n",
    "    def __str__(self):\n",
    "        return f'Location of Order is {self.location} and assignment is {self.assignment}'\n",
    "        \n",
    "    def __repr__(self):\n",
    "        return f'Location of Order is {self.location} and assignment is {self.assignment}'\n"
   ]
  },
  {
   "cell_type": "code",
   "execution_count": 4,
   "metadata": {},
   "outputs": [],
   "source": [
    "class Warehouse:\n",
    "    \n",
    "    def __init__(self,locations):\n",
    "        self.robot_1_location = locations[0]\n",
    "        self.robot_2_location = locations[1]\n",
    "        \n",
    "        self.robot_1 = Robot(self.robot_1_location,\"Robot-1\")\n",
    "        self.robot_2 = Robot(self.robot_2_location,\"Robot-2\")\n",
    "        \n",
    "        self.orders = []\n",
    "        \n",
    "    def new_order(self,location):\n",
    "        order = Order(location)\n",
    "        self.orders.append(order)\n",
    "        \n",
    "    def order_by_closeness(self):\n",
    "        self.robot_1.get_closest_orders(self.orders)\n",
    "        self.robot_2.get_closest_orders(self.orders)\n",
    "        \n",
    "    def print_orders(self):\n",
    "        print(self.orders)\n",
    "        \n",
    "    def get_cost(self):\n",
    "        return self.robot_1.get_dist(self.robot_1.assignment) + self.robot_2.get_dist(self.robot_2.assignment)\n",
    "    \n",
    "    def check_swap(self):\n",
    "        \n",
    "        current_cost = self.get_cost()\n",
    "        swap_cost = self.robot_1.get_dist(self.robot_2.assignment) + self.robot_2.get_dist(self.robot_1.assignment)\n",
    "        \n",
    "        \n",
    "        if swap_cost < current_cost:\n",
    "            self.robot_1.assign(self.robot_2.assignment,True)\n",
    "            self.robot_2.assign(self.robot_1.assignment,True)\n",
    "#             print(\"swap occured\")\n",
    "            \n",
    "#         else:\n",
    "#             print(\"NO swap\")\n",
    "            \n",
    "    def interpret_move(self,dir_,vert):\n",
    "        if vert == True:\n",
    "            if dir_==1:\n",
    "                return 1\n",
    "            elif dir_== -1:\n",
    "                return 2\n",
    "            \n",
    "        elif vert==False:\n",
    "            if dir_== 1:\n",
    "                return 4\n",
    "            elif dir_==-1:\n",
    "                return 3\n",
    "            \n",
    "\n",
    "    def move_robot(self,robot_a,robot_b,warehouse):\n",
    "        \n",
    "        temp = robot_a.find_next_move()\n",
    "            \n",
    "        up_move = [temp[0],0]\n",
    "        right_move = [0,temp[1]]\n",
    "        \n",
    "        if [sum(x) for x in zip(robot_a.location, up_move)] == robot_b.location:\n",
    "            temp[0] = 0 #can't go up\n",
    "            if temp[1] == 0:\n",
    "                \n",
    "                if robot_a.location[1]==0:\n",
    "                    temp[1] = 1\n",
    "                elif robot_a.location[1]==4:\n",
    "                    temp[1] = -1\n",
    "                else:\n",
    "                    if np.random.uniform() < 0.5:\n",
    "                        temp[1] = 1\n",
    "                    else:\n",
    "                        temp[1] = -1\n",
    "                    \n",
    "        elif [sum(x) for x in zip(robot_a.location, right_move)] == robot_b.location:\n",
    "            temp[1] = 0 #can't go right  \n",
    "            if temp[0] == 0:\n",
    "                \n",
    "                if robot_a.location[0]==0:\n",
    "                    temp[0] = 1\n",
    "                elif robot_a.location[0]==9:\n",
    "                    temp[0] = -1\n",
    "                else:\n",
    "                    if np.random.uniform() < 0.5:\n",
    "                        temp[0] = 1\n",
    "                    else:\n",
    "                        temp[0] = -1\n",
    "        \n",
    "\n",
    "        if temp[0]==0:\n",
    "            robot_a.step([0,temp[1]],warehouse)\n",
    "            return self.interpret_move(temp[1],vert=False)\n",
    "        \n",
    "        elif temp[1]==0:\n",
    "            robot_a.step([temp[0],0],warehouse)\n",
    "            return self.interpret_move(temp[0],vert=True)\n",
    "\n",
    "        else:\n",
    "            if np.random.uniform() < 0.5:\n",
    "                robot_a.step([temp[0],0],warehouse)\n",
    "                return self.interpret_move(temp[0],vert=True)\n",
    "            else:\n",
    "                robot_a.step([0,temp[1]],warehouse)\n",
    "                return self.interpret_move(temp[1],vert=False)\n",
    "\n",
    "    \n",
    "    \n",
    "    def get_order_locations(self):\n",
    "        return [order.location for order in self.orders]\n",
    "    \n",
    "    def clear_order(self,order):\n",
    "        for i in self.orders:\n",
    "            if i.location==order.location:\n",
    "                self.orders.remove(i)\n",
    "        \n",
    "    \n"
   ]
  },
  {
   "cell_type": "code",
   "execution_count": 5,
   "metadata": {},
   "outputs": [],
   "source": [
    "warehouse = Warehouse([[0,1],[0,3]])"
   ]
  },
  {
   "cell_type": "code",
   "execution_count": 6,
   "metadata": {
    "scrolled": true
   },
   "outputs": [],
   "source": [
    "rew1=[]\n",
    "rew2=[]\n",
    "cum_rew = [0,0]\n",
    "distance=[0,0]\n",
    "no_steps = 10000 #no of secs in an 18 hr day\n",
    "# no_steps=int(no_steps/2)\n",
    "\n",
    "%timeit\n",
    "for s in range(no_steps):\n",
    "\n",
    "    obs,rew,done,info = env.step([0,0])\n",
    "    obs=obs.T\n",
    "\n",
    "    # Every time I take a step, do the following to retrieve new orders\n",
    "    order_locations = warehouse.get_order_locations()\n",
    "    for i in range(obs.shape[0]):\n",
    "        for j in range(obs.shape[1]):\n",
    "            if [i,j] not in order_locations:\n",
    "                if obs[i][j] == 1 or obs[i][j] == -2:\n",
    "                    warehouse.new_order([i,j])\n",
    "\n",
    "    warehouse.order_by_closeness()\n",
    "    #env.render()\n",
    "    #warehouse.print_orders()\n",
    "        \n",
    "    if len(warehouse.orders)>0:\n",
    "        idx_1 = 0\n",
    "        idx_2 = 0\n",
    "        # assign robot 1 to closest order\n",
    "        if warehouse.robot_1.loaded == False:\n",
    "            assignment_1 = warehouse.robot_1.assign(warehouse.robot_1.sorted_orders[idx_1][0])\n",
    "            idx_1+=1\n",
    "            while assignment_1 == False and idx_1<len(warehouse.orders): \n",
    "                assignment_1 = warehouse.robot_1.assign(warehouse.robot_1.sorted_orders[idx_1][0])  \n",
    "                idx_1+=1\n",
    "\n",
    "        # assign robot 2 to closest order\n",
    "        if warehouse.robot_2.loaded == False:\n",
    "            assignment_2 = warehouse.robot_2.assign(warehouse.robot_2.sorted_orders[idx_2][0])\n",
    "            idx_2+=1\n",
    "            while assignment_2 == False and idx_2<len(warehouse.orders):\n",
    "                assignment_2 = warehouse.robot_2.assign(warehouse.robot_2.sorted_orders[idx_2][0])  \n",
    "                idx_2+=1\n",
    "\n",
    "#         swap\n",
    "        if len(warehouse.orders)>0:\n",
    "            warehouse.check_swap()\n",
    "\n",
    "    r1_move = 0\n",
    "    r2_move = 0\n",
    "#     print(\"MOVES: \",[r1_move,r2_move])\n",
    "#     warehouse.print_orders()\n",
    "    \n",
    "#     print(\"Move condition: \",warehouse.robot_1.loaded ==True or warehouse.robot_1.assignment is not None)\n",
    "#     print(\"Condition 1: \",warehouse.robot_1.loaded ==True)\n",
    "#     print(\"Condition 2: \",warehouse.robot_1.assignment is not None)\n",
    "\n",
    "    #move the robot\n",
    "    if warehouse.robot_1.loaded == True or warehouse.robot_1.assignment is not None:\n",
    "        r1_move = warehouse.move_robot(warehouse.robot_1,warehouse.robot_2,warehouse)\n",
    "    if warehouse.robot_2.loaded == True or warehouse.robot_2.assignment is not None:\n",
    "        r2_move = warehouse.move_robot(warehouse.robot_2,warehouse.robot_1,warehouse)\n",
    "        \n",
    "#     print(\"Move condition: \",warehouse.robot_1.loaded ==True or warehouse.robot_1.assignment is not None)\n",
    "#     print(\"Condition 1: \",warehouse.robot_1.loaded ==True)\n",
    "#     print(\"Condition 2: \",warehouse.robot_1.assignment is not None)\n",
    "        \n",
    "#     print(\"MOVES: \",[r1_move,r2_move])\n",
    "\n",
    "   \n",
    "    rew=[0,0]    \n",
    "    obs,rew,done,info = env.step([r1_move,r2_move])\n",
    "    \n",
    "    distance[0]+=info[0]\n",
    "    distance[1]+=info[1]\n",
    "    \n",
    "\n",
    "    \n",
    "#     if s%10 == 0:\n",
    "#         env.render()\n",
    "    \n",
    "    cum_rew[0] = cum_rew[0] + rew[0]\n",
    "    cum_rew[1] = cum_rew[1] + rew[1]\n",
    "    rew1.append(rew[0])\n",
    "    rew2.append(rew[1])\n",
    "    "
   ]
  },
  {
   "cell_type": "code",
   "execution_count": 7,
   "metadata": {},
   "outputs": [
    {
     "data": {
      "text/plain": [
       "[14882529, 11968742]"
      ]
     },
     "execution_count": 7,
     "metadata": {},
     "output_type": "execute_result"
    }
   ],
   "source": [
    "distance"
   ]
  },
  {
   "cell_type": "code",
   "execution_count": 8,
   "metadata": {},
   "outputs": [
    {
     "data": {
      "text/plain": [
       "2913787"
      ]
     },
     "execution_count": 8,
     "metadata": {},
     "output_type": "execute_result"
    }
   ],
   "source": [
    "abs(distance[0]-distance[1])"
   ]
  },
  {
   "cell_type": "code",
   "execution_count": 9,
   "metadata": {},
   "outputs": [
    {
     "data": {
      "text/plain": [
       "26851271"
      ]
     },
     "execution_count": 9,
     "metadata": {},
     "output_type": "execute_result"
    }
   ],
   "source": [
    "sum(distance)"
   ]
  },
  {
   "cell_type": "code",
   "execution_count": null,
   "metadata": {},
   "outputs": [],
   "source": [
    "warehouse.robot_1.sorted_orders"
   ]
  },
  {
   "cell_type": "code",
   "execution_count": null,
   "metadata": {},
   "outputs": [],
   "source": [
    "warehouse.robot_1.loaded "
   ]
  },
  {
   "cell_type": "code",
   "execution_count": null,
   "metadata": {},
   "outputs": [],
   "source": [
    "==True or warehouse.robot_1.assignment is not None"
   ]
  },
  {
   "cell_type": "code",
   "execution_count": null,
   "metadata": {},
   "outputs": [],
   "source": [
    "env.render()"
   ]
  },
  {
   "cell_type": "code",
   "execution_count": 10,
   "metadata": {},
   "outputs": [
    {
     "name": "stdout",
     "output_type": "stream",
     "text": [
      "reward:  [-2079904, -2573117]\n",
      "total_orders:  471 orders1:  294 orders2:  177\n"
     ]
    }
   ],
   "source": [
    "print(\"reward: \", cum_rew)\n",
    "total_orders = len(warehouse.orders) + warehouse.robot_1.fulfilled + warehouse.robot_2.fulfilled\n",
    "print(\"total_orders: \", total_orders, \"orders1: \", warehouse.robot_1.fulfilled, \"orders2: \", warehouse.robot_2.fulfilled)"
   ]
  },
  {
   "cell_type": "code",
   "execution_count": 11,
   "metadata": {},
   "outputs": [],
   "source": [
    "import matplotlib.pyplot as plt"
   ]
  },
  {
   "cell_type": "code",
   "execution_count": 12,
   "metadata": {},
   "outputs": [
    {
     "data": {
      "image/png": "[encoded data removed]",
      "text/plain": [
       "<Figure size 432x288 with 1 Axes>"
      ]
     },
     "metadata": {},
     "output_type": "display_data"
    }
   ],
   "source": [
    "caption = \"{} total orders = {} (R1) + {} (R2)\".format(total_orders,warehouse.robot_1.fulfilled,warehouse.robot_2.fulfilled)\n",
    "\n",
    "plt.title(\"1 Day Reward Summary\")\n",
    "plt.plot(np.cumsum(rew1),label=\"robot-1\")\n",
    "plt.plot(np.cumsum(rew2),label=\"robot-2\")\n",
    "plt.ylabel(\"Reward\")\n",
    "plt.xlabel(\"Time (s)\")\n",
    "plt.legend()\n",
    "plt.text(30000, -1000, caption, horizontalalignment='center', bbox=dict(facecolor='g', alpha=0.2))\n",
    "plt.gcf().subplots_adjust(bottom=0.2)\n",
    "# plt.savefig('no_swap_day3.png')\n",
    "plt.savefig('swap_day1.png')\n",
    "plt.show()"
   ]
  },
  {
   "cell_type": "code",
   "execution_count": null,
   "metadata": {},
   "outputs": [],
   "source": [
    "len(rew1)"
   ]
  },
  {
   "cell_type": "code",
   "execution_count": null,
   "metadata": {},
   "outputs": [],
   "source": [
    "print(warehouse.robot_1.location)\n",
    "print(warehouse.robot_1.assignment)\n",
    "print(warehouse.robot_1.loaded)"
   ]
  },
  {
   "cell_type": "code",
   "execution_count": null,
   "metadata": {},
   "outputs": [],
   "source": [
    "print(warehouse.robot_2.location)\n",
    "print(warehouse.robot_2.assignment)\n",
    "print(warehouse.robot_2.loaded)"
   ]
  },
  {
   "cell_type": "code",
   "execution_count": null,
   "metadata": {},
   "outputs": [],
   "source": [
    "warehouse.robot_1.entrance"
   ]
  },
  {
   "cell_type": "code",
   "execution_count": null,
   "metadata": {},
   "outputs": [],
   "source": [
    "warehouse.robot_1.location"
   ]
  },
  {
   "cell_type": "code",
   "execution_count": null,
   "metadata": {},
   "outputs": [],
   "source": [
    "warehouse.robot_2.location"
   ]
  },
  {
   "cell_type": "code",
   "execution_count": null,
   "metadata": {},
   "outputs": [],
   "source": []
  }
 ],
 "metadata": {
  "kernelspec": {
   "display_name": "Python 3",
   "language": "python",
   "name": "python3"
  },
  "language_info": {
   "codemirror_mode": {
    "name": "ipython",
    "version": 3
   },
   "file_extension": ".py",
   "mimetype": "text/x-python",
   "name": "python",
   "nbconvert_exporter": "python",
   "pygments_lexer": "ipython3",
   "version": "3.6.4"
  }
 },
 "nbformat": 4,
 "nbformat_minor": 2
}
